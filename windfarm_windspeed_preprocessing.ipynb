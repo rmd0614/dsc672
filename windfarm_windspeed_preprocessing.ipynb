{
 "cells": [
  {
   "cell_type": "code",
   "execution_count": 10,
   "metadata": {},
   "outputs": [
    {
     "name": "stdout",
     "output_type": "stream",
     "text": [
      "Location              object\n",
      "Date          datetime64[ns]\n",
      "Wind_Speed           float64\n",
      "dtype: object\n",
      "    Location                Date  Wind_Speed\n",
      "0  Wind Farm 2011-03-24 19:00:00         4.7\n",
      "1  Wind Farm 2011-03-24 20:00:00         5.3\n",
      "2  Wind Farm 2011-03-24 21:00:00         6.4\n",
      "3  Wind Farm 2011-03-24 22:00:00         6.1\n",
      "4  Wind Farm 2011-03-24 23:00:00         5.5\n",
      "['Wind Farm']\n"
     ]
    }
   ],
   "source": [
    "import pandas as pd\n",
    "import numpy as np\n",
    "\n",
    "\"\"\" \n",
    "DSC672\n",
    "Team: Steven Rummel, Ricardo De Leon II, Prabhakaran Raghavan, Sibi Augustin, Tyler Jewell\n",
    "Project: Energy Consumption and Renewable Energy\n",
    "Purpose: \n",
    "\n",
    "Import windfarm windspeed data from the relevant source files, \n",
    "convert string-format date and time into valid datetime values,\n",
    "remove unneeded columns, normalize column headers, and\n",
    "export to canonical data source for further analysis.\n",
    "\"\"\"\n",
    "\n",
    "wind = pd.read_csv('./raw/windfarm_windspeed.csv')\n",
    "\n",
    "wind.rename(index=str, columns={\"Date_time\": \"Date\"}, inplace=True)\n",
    "\n",
    "wind['Date'] = pd.to_datetime(wind['Date'], format='%d%b%y:%H:%M:%S')\n",
    "wind.drop(['Hour'], axis=1, inplace=True)\n",
    "\n",
    "print(wind.dtypes)\n",
    "print(wind.head())\n",
    "print(wind['Location'].unique())"
   ]
  },
  {
   "cell_type": "code",
   "execution_count": 11,
   "metadata": {},
   "outputs": [],
   "source": [
    "wind.to_pickle(\"./processed/windspeed.pkl\")"
   ]
  },
  {
   "cell_type": "code",
   "execution_count": null,
   "metadata": {},
   "outputs": [],
   "source": []
  }
 ],
 "metadata": {
  "kernelspec": {
   "display_name": "Python 3",
   "language": "python",
   "name": "python3"
  },
  "language_info": {
   "codemirror_mode": {
    "name": "ipython",
    "version": 3
   },
   "file_extension": ".py",
   "mimetype": "text/x-python",
   "name": "python",
   "nbconvert_exporter": "python",
   "pygments_lexer": "ipython3",
   "version": "3.6.5"
  }
 },
 "nbformat": 4,
 "nbformat_minor": 2
}

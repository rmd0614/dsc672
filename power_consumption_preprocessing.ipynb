{
 "cells": [
  {
   "cell_type": "code",
   "execution_count": 3,
   "metadata": {},
   "outputs": [
    {
     "name": "stdout",
     "output_type": "stream",
     "text": [
      "Year                    object\n",
      "Month                    int64\n",
      "Day                      int64\n",
      "Hour                     int64\n",
      "Sector                  object\n",
      "Electricity_KW_SQFT    float64\n",
      "dtype: object\n",
      "          Year  Month  Day  Hour        Sector  Electricity_KW_SQFT\n",
      "0  Consumption      1    1     1  FOOD_SERVICE             0.005416\n",
      "1  Consumption      1    1     1       GROCERY             0.002030\n",
      "2  Consumption      1    1     1   HEALTH_CARE             0.002390\n",
      "3  Consumption      1    1     1   K12_SCHOOLS             0.000818\n",
      "4  Consumption      1    1     1       LODGING             0.001209\n"
     ]
    }
   ],
   "source": [
    "import pandas as pd\n",
    "import numpy as np\n",
    "\n",
    "\"\"\" \n",
    "DSC672\n",
    "Team: Steven Rummel, Ricardo De Leon II, Prabhakaran Raghavan, Sibi Augustin, Tyler Jewell\n",
    "Project: Energy Consumption and Renewable Energy\n",
    "Purpose: \n",
    "\n",
    "Import power consumption data from the relevant source files, \n",
    "convert string-format date and time into valid datetime values,\n",
    "remove unneeded columns, normalize column headers, and\n",
    "export to canonical data source for further analysis.\n",
    "\"\"\"\n",
    "\n",
    "consumption = pd.read_csv('./raw/powercity_consumption.csv')\n",
    "\n",
    "#solar_prod.rename(index=str, columns={\"Electricity_KW_HR\": \"KWH\"}, inplace=True)\n",
    "#wind_prod.rename(index=str, columns={\"Electricity_KW_HR\": \"KWH\"}, inplace=True)\n",
    "\n",
    "#solar_prod['Date'] = pd.to_datetime(solar_prod['Date'])\n",
    "#solar_prod['Date'] +=  pd.to_timedelta(solar_prod['Hour'], unit='h')\n",
    "#solar_prod.drop(['Hour'], axis=1, inplace=True)\n",
    "#solar_prod['Source'] = 'Solar'\n",
    "\n",
    "print(consumption.dtypes)\n",
    "print(consumption.head())"
   ]
  },
  {
   "cell_type": "code",
   "execution_count": 49,
   "metadata": {},
   "outputs": [
    {
     "name": "stdout",
     "output_type": "stream",
     "text": [
      "Solar: 18704 Wind: 15385 Total: 34089 Power: 34089\n"
     ]
    }
   ],
   "source": [
    "consumption.to_pickle(\"./processed/power_consumption.pkl\")"
   ]
  },
  {
   "cell_type": "code",
   "execution_count": null,
   "metadata": {},
   "outputs": [],
   "source": []
  }
 ],
 "metadata": {
  "kernelspec": {
   "display_name": "Python 3",
   "language": "python",
   "name": "python3"
  },
  "language_info": {
   "codemirror_mode": {
    "name": "ipython",
    "version": 3
   },
   "file_extension": ".py",
   "mimetype": "text/x-python",
   "name": "python",
   "nbconvert_exporter": "python",
   "pygments_lexer": "ipython3",
   "version": "3.6.5"
  }
 },
 "nbformat": 4,
 "nbformat_minor": 2
}

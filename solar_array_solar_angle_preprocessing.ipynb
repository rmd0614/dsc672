{
 "cells": [
  {
   "cell_type": "code",
   "execution_count": 65,
   "metadata": {},
   "outputs": [],
   "source": [
    "import pandas as pd\n",
    "import numpy as np\n",
    "\n",
    "\"\"\" \n",
    "DSC672\n",
    "Team: Steven Rummel, Ricardo De Leon II, Prabhakaran Raghavan, Sibi Augustin, Tyler Jewell\n",
    "Project: Energy Consumption and Renewable Energy\n",
    "Purpose: \n",
    "\n",
    "Import solar array data from the relevant source files, \n",
    "convert string-format date and time into valid datetime values,\n",
    "remove unneeded columns, normalize column headers, and\n",
    "export to canonical data source for further analysis.\n",
    "\"\"\"\n",
    "\n",
    "solar = pd.read_csv('./raw/solararray_solarangle.csv')\n",
    "\n",
    "for field in list(solar):\n",
    "    solar[field] = solar[field].astype(str)"
   ]
  },
  {
   "cell_type": "code",
   "execution_count": 66,
   "metadata": {},
   "outputs": [],
   "source": [
    "# Pad out the Month, Day and Hour values because .to_datetime wont processed unpadded integers.\n",
    "solar['Month'] = solar['Month'].apply('{:0>2}'.format)\n",
    "solar['Day'] = solar['Day'].apply('{:0>2}'.format)\n",
    "solar['Hour'] = solar['Hour'].apply('{:0>2}'.format)\n",
    "\n",
    "# Create a string version of  timestamp.\n",
    "solar['Date'] = solar[['Year', 'Month', 'Day']].apply(lambda x: ':'.join(x), axis=1)\n",
    "\n",
    "# Cast the string to a datetime object.\n",
    "# Note: Adding the hour at the end kept erroring out, so did it the brute\n",
    "# force way by adding it after as a timedelta.\n",
    "solar['Date'] = pd.to_datetime(solar['Date'], format='%Y:%m:%d')\n",
    "solar['Date'] +=  pd.to_timedelta(solar['Hour'].astype(int), unit='h')\n",
    "\n",
    "# Get rid of columns we do not need.\n",
    "drop_these = ['Year', 'Month', 'Day', 'Hour', 'Location']\n",
    "for field in drop_these:\n",
    "    solar.drop([field], axis=1, inplace=True)"
   ]
  },
  {
   "cell_type": "code",
   "execution_count": 67,
   "metadata": {},
   "outputs": [],
   "source": [
    "solar.to_pickle(\"./processed/solararray_elevation.pkl\")"
   ]
  },
  {
   "cell_type": "code",
   "execution_count": null,
   "metadata": {},
   "outputs": [],
   "source": []
  }
 ],
 "metadata": {
  "kernelspec": {
   "display_name": "Python 3",
   "language": "python",
   "name": "python3"
  },
  "language_info": {
   "codemirror_mode": {
    "name": "ipython",
    "version": 3
   },
   "file_extension": ".py",
   "mimetype": "text/x-python",
   "name": "python",
   "nbconvert_exporter": "python",
   "pygments_lexer": "ipython3",
   "version": "3.6.5"
  }
 },
 "nbformat": 4,
 "nbformat_minor": 2
}
